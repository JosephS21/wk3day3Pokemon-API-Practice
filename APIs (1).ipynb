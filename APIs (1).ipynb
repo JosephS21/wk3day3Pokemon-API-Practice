{
 "cells": [
  {
   "cell_type": "markdown",
   "metadata": {},
   "source": [
    "# APIs\n"
   ]
  },
  {
   "cell_type": "markdown",
   "metadata": {},
   "source": [
    "## Tasks Today:\n",
    "1) <b>Requests and the pokemon API </b> <br>\n",
    " "
   ]
  },
  {
   "cell_type": "markdown",
   "metadata": {},
   "source": [
    "# working with APis"
   ]
  },
  {
   "cell_type": "markdown",
   "metadata": {},
   "source": [
    "<p> What exactly is an API? <br> <br>\n",
    "API is the acronym for Application Programming Interface, which is a software intermediary that allows two applications to talk to each other. Each time you use an app like Facebook, send an instant message, or check the weather on your phone, you're using an API. </p>"
   ]
  },
  {
   "cell_type": "markdown",
   "metadata": {},
   "source": [
    "### The Poke API  allows you to retreive a pokemon's information from PokeAPI https://pokeapi.co/\n",
    "\n"
   ]
  },
  {
   "cell_type": "code",
   "execution_count": 7,
   "metadata": {},
   "outputs": [
    {
     "name": "stdout",
     "output_type": "stream",
     "text": [
      "Enter a pokemon: 700\n",
      "Error, status code 404\n"
     ]
    }
   ],
   "source": [
    "# making an API call\n",
    "import requests\n",
    "\n",
    "pokemon = input('Enter a pokemon: ')\n",
    "\n",
    "url = f'https://pokeapi.co/api/v2/{pokemon}/'\n",
    "\n",
    "response = requests.get(url)\n",
    "\n",
    "if response.status_code == 200:\n",
    "    print('success')\n",
    "    data = response.json()\n",
    "else:\n",
    "    print(f'Error, status code {response.status_code}')"
   ]
  },
  {
   "cell_type": "code",
   "execution_count": 8,
   "metadata": {},
   "outputs": [
    {
     "name": "stdout",
     "output_type": "stream",
     "text": [
      "sylveon\n"
     ]
    }
   ],
   "source": [
    "print(data['name'])"
   ]
  },
  {
   "cell_type": "markdown",
   "metadata": {},
   "source": [
    "### Display a Pokemon's name, weight, abilities, and types"
   ]
  },
  {
   "cell_type": "code",
   "execution_count": 9,
   "metadata": {},
   "outputs": [
    {
     "name": "stdout",
     "output_type": "stream",
     "text": [
      "sylveon\n"
     ]
    }
   ],
   "source": [
    "# get the name\n",
    "name = data['name']\n",
    "print(name)"
   ]
  },
  {
   "cell_type": "code",
   "execution_count": 12,
   "metadata": {},
   "outputs": [
    {
     "name": "stdout",
     "output_type": "stream",
     "text": [
      "['fairy']\n"
     ]
    }
   ],
   "source": [
    "# get types\n",
    "types = data['types']\n",
    "types = list(map(lambda x: x['type']['name'], types))\n",
    "print(types)"
   ]
  },
  {
   "cell_type": "code",
   "execution_count": 13,
   "metadata": {},
   "outputs": [
    {
     "name": "stdout",
     "output_type": "stream",
     "text": [
      "235\n"
     ]
    }
   ],
   "source": [
    "# get weight\n",
    "weight = data['weight']\n",
    "print(weight)"
   ]
  },
  {
   "cell_type": "code",
   "execution_count": 14,
   "metadata": {},
   "outputs": [
    {
     "name": "stdout",
     "output_type": "stream",
     "text": [
      "['cute-charm', 'pixilate']\n"
     ]
    }
   ],
   "source": [
    "# get abilities\n",
    "abilities = data['abilities']\n",
    "abilities = list(map(lambda x: x['ability']['name'], abilities))\n",
    "print(abilities)"
   ]
  },
  {
   "cell_type": "code",
   "execution_count": 15,
   "metadata": {},
   "outputs": [],
   "source": [
    "# Create a structure for a single pokemon\n",
    "class Pokemon:\n",
    "    def __init__(self,name,types,weight,abilities):\n",
    "        self.name = name\n",
    "        self.types = types\n",
    "        self.weight = weight\n",
    "        self.abilities = abilities"
   ]
  },
  {
   "cell_type": "code",
   "execution_count": null,
   "metadata": {},
   "outputs": [],
   "source": []
  },
  {
   "cell_type": "markdown",
   "metadata": {},
   "source": [
    "#### Create a function to Pull in your own Pokemon's data "
   ]
  },
  {
   "cell_type": "code",
   "execution_count": 16,
   "metadata": {},
   "outputs": [],
   "source": [
    "def poke_api_call(pokemon):\n",
    "    # Use the pokemon parameter to make a request to the pokeapi\n",
    "    response = requests.get(f'https://pokeapi.co/api/v2/pokemon/{pokemon}/')\n",
    "    \n",
    "    # if the status code is 200:\n",
    "    if response.status_code == 200:\n",
    "        # Get the pokemon's data with the json method\n",
    "        data = response.json()\n",
    "        # Pull out the name, weight, types, abilities\n",
    "        name = data['name']\n",
    "        \n",
    "        types = data['types']\n",
    "        types = list(map(lambda x: x['type']['name'], types))\n",
    "        \n",
    "        weight = data['weight']\n",
    "        \n",
    "        abilities = data['abilities']\n",
    "        abilities = list(map(lambda x: x['ability']['name'], abilities))\n",
    "        # Create an instance of the Pokemon class\n",
    "        pokemon = Pokemon(name, types, weight, abilities)\n",
    "        # Return the instance of the class\n",
    "        return pokemon\n",
    "    # if the status code is not 200, print an error message\n",
    "    else:\n",
    "        print(f'ERROR, STATUS CODE {response.status_code}')"
   ]
  },
  {
   "cell_type": "markdown",
   "metadata": {},
   "source": [
    "Choose your pokemon"
   ]
  },
  {
   "cell_type": "code",
   "execution_count": 17,
   "metadata": {},
   "outputs": [],
   "source": [
    "from random import randint\n",
    "# Random number generated for each pokemon id\n",
    "random_team = [randint(1,898) for i in range(6)]\n",
    "\n",
    "your_team = [700, 30, 500, 15, 25, 6]\n"
   ]
  },
  {
   "cell_type": "code",
   "execution_count": 18,
   "metadata": {},
   "outputs": [],
   "source": [
    "random_team = list(map(poke_api_call, random_team))"
   ]
  },
  {
   "cell_type": "code",
   "execution_count": 19,
   "metadata": {},
   "outputs": [
    {
     "name": "stdout",
     "output_type": "stream",
     "text": [
      "[<__main__.Pokemon object at 0x7f9b52dec940>, <__main__.Pokemon object at 0x7f9b4fb76100>, <__main__.Pokemon object at 0x7f9b52c34790>, <__main__.Pokemon object at 0x7f9b5281cca0>, <__main__.Pokemon object at 0x7f9b52135550>, <__main__.Pokemon object at 0x7f9b52a0d040>]\n"
     ]
    }
   ],
   "source": [
    "print(random_team)"
   ]
  },
  {
   "cell_type": "code",
   "execution_count": 20,
   "metadata": {},
   "outputs": [],
   "source": [
    "your_team = list(map(poke_api_call, your_team))"
   ]
  },
  {
   "cell_type": "code",
   "execution_count": 21,
   "metadata": {},
   "outputs": [
    {
     "name": "stdout",
     "output_type": "stream",
     "text": [
      "[<__main__.Pokemon object at 0x7f9b527e2d30>, <__main__.Pokemon object at 0x7f9b527d5c40>, <__main__.Pokemon object at 0x7f9b521a5550>, <__main__.Pokemon object at 0x7f9b519b9ac0>, <__main__.Pokemon object at 0x7f9b52ce1f10>, <__main__.Pokemon object at 0x7f9b52ce1f40>]\n"
     ]
    }
   ],
   "source": [
    "print(your_team)"
   ]
  },
  {
   "cell_type": "code",
   "execution_count": 22,
   "metadata": {},
   "outputs": [
    {
     "name": "stdout",
     "output_type": "stream",
     "text": [
      "drifloon\n",
      "roserade\n",
      "pyukumuku\n",
      "ledian\n",
      "cranidos\n",
      "darmanitan-standard\n"
     ]
    }
   ],
   "source": [
    "for team_member in random_team:\n",
    "    print(team_member.name)"
   ]
  },
  {
   "cell_type": "markdown",
   "metadata": {},
   "source": [
    "#### Use your function to create a dictionary of your Johto League 6  (favorite 6 pokemon)"
   ]
  },
  {
   "cell_type": "code",
   "execution_count": 23,
   "metadata": {},
   "outputs": [
    {
     "name": "stdout",
     "output_type": "stream",
     "text": [
      "{'sylveon': <__main__.Pokemon object at 0x7f9b527e2d30>}\n",
      "{'sylveon': <__main__.Pokemon object at 0x7f9b527e2d30>, 'nidorina': <__main__.Pokemon object at 0x7f9b527d5c40>}\n",
      "{'sylveon': <__main__.Pokemon object at 0x7f9b527e2d30>, 'nidorina': <__main__.Pokemon object at 0x7f9b527d5c40>, 'emboar': <__main__.Pokemon object at 0x7f9b521a5550>}\n",
      "{'sylveon': <__main__.Pokemon object at 0x7f9b527e2d30>, 'nidorina': <__main__.Pokemon object at 0x7f9b527d5c40>, 'emboar': <__main__.Pokemon object at 0x7f9b521a5550>, 'beedrill': <__main__.Pokemon object at 0x7f9b519b9ac0>}\n",
      "{'sylveon': <__main__.Pokemon object at 0x7f9b527e2d30>, 'nidorina': <__main__.Pokemon object at 0x7f9b527d5c40>, 'emboar': <__main__.Pokemon object at 0x7f9b521a5550>, 'beedrill': <__main__.Pokemon object at 0x7f9b519b9ac0>, 'pikachu': <__main__.Pokemon object at 0x7f9b52ce1f10>}\n",
      "{'sylveon': <__main__.Pokemon object at 0x7f9b527e2d30>, 'nidorina': <__main__.Pokemon object at 0x7f9b527d5c40>, 'emboar': <__main__.Pokemon object at 0x7f9b521a5550>, 'beedrill': <__main__.Pokemon object at 0x7f9b519b9ac0>, 'pikachu': <__main__.Pokemon object at 0x7f9b52ce1f10>, 'charizard': <__main__.Pokemon object at 0x7f9b52ce1f40>}\n"
     ]
    }
   ],
   "source": [
    "# Place all 6 of your pokemon on the object below, each pokemon should have at least as much info as Pikachu did.\n",
    "my_six_pokemon = {}\n",
    "\n",
    "for team_member in your_team:\n",
    "    my_six_pokemon[team_member.name] = team_member\n",
    "    print(my_six_pokemon)\n"
   ]
  },
  {
   "cell_type": "markdown",
   "metadata": {},
   "source": [
    "## Lets create a class called 'Pokemon' and create our pokemon as instances"
   ]
  },
  {
   "cell_type": "code",
   "execution_count": 26,
   "metadata": {},
   "outputs": [],
   "source": [
    "class Pokemon:\n",
    "    def __init__(self,name):\n",
    "        self.name = name\n",
    "        self.types = None\n",
    "        self.weight = None\n",
    "        self.abilities = None\n",
    "        self.sprite = None\n",
    "        self.poke_api_call()\n",
    "        \n",
    "    def poke_api_call(self):\n",
    "        # Use the pokemon parameter to make a request to the pokeapi\n",
    "        response = requests.get(f'https://pokeapi.co/api/v2/pokemon/{self.name}/')\n",
    "        # if the status code is 200:\n",
    "        if response.status_code == 200:\n",
    "            # Get the pokemon's data with the json method\n",
    "            data = response.json()\n",
    "            # Pull out the name, weight, types, abilities\n",
    "            self.name = data['name']\n",
    "            types = data['types']\n",
    "            self.types = list(map(lambda x: x['type']['name'], types))\n",
    "            self.weight = data['weight']\n",
    "            abilities = data['abilities']\n",
    "            self.abilities = list(map(lambda x: x['ability']['name'], abilities))\n",
    "            self.sprite = data['sprites']['front_default']\n",
    "            # if the status code is not 200, print an error message\n",
    "        else:\n",
    "            print(f'ERROR, STATUS CODE {response.status_code}')"
   ]
  },
  {
   "cell_type": "code",
   "execution_count": 27,
   "metadata": {},
   "outputs": [],
   "source": [
    "pikachu = Pokemon('pikachu')"
   ]
  },
  {
   "cell_type": "code",
   "execution_count": 28,
   "metadata": {},
   "outputs": [
    {
     "data": {
      "text/plain": [
       "'https://raw.githubusercontent.com/PokeAPI/sprites/master/sprites/pokemon/25.png'"
      ]
     },
     "execution_count": 28,
     "metadata": {},
     "output_type": "execute_result"
    }
   ],
   "source": [
    "pikachu.sprite"
   ]
  },
  {
   "cell_type": "markdown",
   "metadata": {},
   "source": [
    "### Let's Catch some Pokemon"
   ]
  },
  {
   "cell_type": "code",
   "execution_count": 30,
   "metadata": {},
   "outputs": [],
   "source": [
    "class Pokedex:\n",
    "    def __init__(self):\n",
    "        self.pokemon = {}\n",
    "        \n",
    "    def add_pokemon(self, name):\n",
    "        new_pokemon = Pokemon(name)\n",
    "        self.pokemon[new_pokemon.name] = new_pokemon\n",
    "        \n"
   ]
  },
  {
   "cell_type": "code",
   "execution_count": 33,
   "metadata": {},
   "outputs": [],
   "source": [
    "my_pokedex = Pokedex()"
   ]
  },
  {
   "cell_type": "code",
   "execution_count": 34,
   "metadata": {},
   "outputs": [],
   "source": [
    "my_pokedex.add_pokemon('pikachu')"
   ]
  },
  {
   "cell_type": "code",
   "execution_count": 35,
   "metadata": {},
   "outputs": [],
   "source": [
    "my_pokedex.add_pokemon(10)"
   ]
  },
  {
   "cell_type": "code",
   "execution_count": 36,
   "metadata": {},
   "outputs": [
    {
     "data": {
      "text/plain": [
       "{'pikachu': <__main__.Pokemon at 0x7f9b543e5340>,\n",
       " 'caterpie': <__main__.Pokemon at 0x7f9b543e5fd0>}"
      ]
     },
     "execution_count": 36,
     "metadata": {},
     "output_type": "execute_result"
    }
   ],
   "source": [
    "my_pokedex.pokemon"
   ]
  },
  {
   "cell_type": "markdown",
   "metadata": {},
   "source": [
    "## Exercise 1:"
   ]
  },
  {
   "cell_type": "markdown",
   "metadata": {},
   "source": [
    "### Create a Method prints an image of your pokemon\n",
    "\n",
    "<p>HINT: You may need another attribute as well to store your image url within. </p>"
   ]
  },
  {
   "cell_type": "code",
   "execution_count": 39,
   "metadata": {},
   "outputs": [],
   "source": [
    "# Display an image in Jupyter notebook\n",
    "from IPython.display import Image\n",
    "\n",
    "#display(Image( 'https://i.redd.it/45n4mhusa8l41.jpg', width = 300))\n"
   ]
  },
  {
   "cell_type": "code",
   "execution_count": 40,
   "metadata": {},
   "outputs": [],
   "source": [
    "class Pokemon:\n",
    "    def __init__(self,name):\n",
    "        self.name = name\n",
    "        self.types = None\n",
    "        self.weight = None\n",
    "        self.abilities = None\n",
    "        self.sprite = None\n",
    "        self.poke_api_call()\n",
    "        \n",
    "    def poke_api_call(self):\n",
    "        # Use the pokemon parameter to make a request to the pokeapi\n",
    "        response = requests.get(f'https://pokeapi.co/api/v2/pokemon/{self.name}/')\n",
    "        # if the status code is 200:\n",
    "        if response.status_code == 200:\n",
    "            # Get the pokemon's data with the json method\n",
    "            data = response.json()\n",
    "            # Pull out the name, weight, types, abilities\n",
    "            self.name = data['name']\n",
    "            types = data['types']\n",
    "            self.types = list(map(lambda x: x['type']['name'], types))\n",
    "            self.weight = data['weight']\n",
    "            abilities = data['abilities']\n",
    "            self.abilities = list(map(lambda x: x['ability']['name'], abilities))\n",
    "            self.sprite = data['sprites']['front_default']\n",
    "            # if the status code is not 200, print an error message\n",
    "        else:\n",
    "            print(f'ERROR, STATUS CODE {response.status_code}')\n",
    "            \n",
    "    def display_pokemon(self):\n",
    "        display(Image(self.sprite, width = 300))"
   ]
  },
  {
   "cell_type": "code",
   "execution_count": 41,
   "metadata": {},
   "outputs": [],
   "source": [
    "pikachu = Pokemon('pikachu')"
   ]
  },
  {
   "cell_type": "code",
   "execution_count": 42,
   "metadata": {},
   "outputs": [
    {
     "data": {
      "image/png": "[encoded data removed]",
      "text/plain": [
       "<IPython.core.display.Image object>"
      ]
     },
     "metadata": {
      "image/png": {
       "width": 300
      }
     },
     "output_type": "display_data"
    }
   ],
   "source": [
    "# Calling our new method\n",
    "pikachu.display_pokemon()"
   ]
  },
  {
   "cell_type": "code",
   "execution_count": 16,
   "metadata": {},
   "outputs": [],
   "source": []
  },
  {
   "cell_type": "markdown",
   "metadata": {},
   "source": [
    "## Exercise 2:"
   ]
  },
  {
   "cell_type": "markdown",
   "metadata": {},
   "source": [
    "### Create a Method that evolves your Pokemon\n",
    "If your pokemon can't evolve any further print a message that says \"\\<name of pokemon> can't evolve.\""
   ]
  },
  {
   "cell_type": "code",
   "execution_count": 321,
   "metadata": {},
   "outputs": [],
   "source": [
    "class Pokemon:\n",
    "    def __init__(self,name):\n",
    "        self.name = name\n",
    "        self.types = None\n",
    "        self.weight = None\n",
    "        self.abilities = None\n",
    "        self.sprite = None\n",
    "        self.poke_api_call()\n",
    "        \n",
    "    def poke_api_call(self):\n",
    "        # Use the pokemon parameter to make a request to the pokeapi\n",
    "        response = requests.get(f'https://pokeapi.co/api/v2/pokemon/{self.name}/')\n",
    "        # if the status code is 200:\n",
    "        if response.status_code == 200:\n",
    "            # Get the pokemon's data with the json method\n",
    "            data = response.json()\n",
    "            # Pull out the name, weight, types, abilities\n",
    "            self.name = data['name']\n",
    "            types = data['types']\n",
    "            self.types = list(map(lambda x: x['type']['name'], types))\n",
    "            self.weight = data['weight']\n",
    "            abilities = data['abilities']\n",
    "            self.abilities = list(map(lambda x: x['ability']['name'], abilities))\n",
    "            self.sprite = data['sprites']['front_default']\n",
    "            # if the status code is not 200, print an error message\n",
    "        else:\n",
    "            print(f'ERROR, STATUS CODE {response.status_code}')\n",
    "            \n",
    "    def display_pokemon(self):\n",
    "        display(Image(self.sprite, width = 300))\n",
    "        \n",
    "    def evolve_pokemon(self):\n",
    "        "
   ]
  },
  {
   "cell_type": "markdown",
   "metadata": {},
   "source": [
    "Now let's evolve a few"
   ]
  },
  {
   "cell_type": "code",
   "execution_count": null,
   "metadata": {
    "scrolled": true
   },
   "outputs": [],
   "source": []
  },
  {
   "cell_type": "code",
   "execution_count": null,
   "metadata": {},
   "outputs": [],
   "source": []
  },
  {
   "cell_type": "code",
   "execution_count": null,
   "metadata": {},
   "outputs": [],
   "source": []
  },
  {
   "cell_type": "markdown",
   "metadata": {},
   "source": [
    "#  Final Exercise(Optional): <br> <br>Create a Move_Tutor Class that will allow the Pokemon Class to inherit a move list.\n",
    "<br>\n",
    "<p>for an added bonus you can make sure that if a pokemon has 4 moves the user can choose one of them to replace with a new move. </p>"
   ]
  },
  {
   "cell_type": "code",
   "execution_count": 19,
   "metadata": {},
   "outputs": [],
   "source": [
    "class Move_Tutor:\n",
    "    def __init__(self):\n",
    "        self.move_list = []"
   ]
  },
  {
   "cell_type": "code",
   "execution_count": null,
   "metadata": {},
   "outputs": [],
   "source": []
  },
  {
   "cell_type": "code",
   "execution_count": 81,
   "metadata": {},
   "outputs": [
    {
     "name": "stdout",
     "output_type": "stream",
     "text": [
      "What move would you like to teach pikachu? spark\n",
      "pikachu learned spark!\n"
     ]
    }
   ],
   "source": [
    "pikachu.teach_move()\n"
   ]
  },
  {
   "cell_type": "code",
   "execution_count": 79,
   "metadata": {},
   "outputs": [
    {
     "name": "stdout",
     "output_type": "stream",
     "text": [
      "pikachu's moves'\n",
      "thunder\n",
      "surf\n",
      "earthquake\n"
     ]
    }
   ],
   "source": [
    "pikachu.show_moves()"
   ]
  }
 ],
 "metadata": {
  "kernelspec": {
   "display_name": "Python 3 (ipykernel)",
   "language": "python",
   "name": "python3"
  },
  "language_info": {
   "codemirror_mode": {
    "name": "ipython",
    "version": 3
   },
   "file_extension": ".py",
   "mimetype": "text/x-python",
   "name": "python",
   "nbconvert_exporter": "python",
   "pygments_lexer": "ipython3",
   "version": "3.9.13"
  }
 },
 "nbformat": 4,
 "nbformat_minor": 4
}
